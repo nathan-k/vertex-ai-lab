{
 "cells": [
  {
   "cell_type": "markdown",
   "id": "37c38dd8",
   "metadata": {},
   "source": [
    "### Install the latest version of Vertex AI SDK for Python."
   ]
  },
  {
   "cell_type": "code",
   "execution_count": null,
   "id": "01a0b556",
   "metadata": {},
   "outputs": [],
   "source": [
    "import os\n",
    "\n",
    "# The Vertex AI Workbench Notebook product has specific requirements\n",
    "IS_WORKBENCH_NOTEBOOK = os.getenv(\"DL_ANACONDA_HOME\") and not os.getenv(\"VIRTUAL_ENV\")\n",
    "IS_USER_MANAGED_WORKBENCH_NOTEBOOK = os.path.exists(\n",
    "    \"/opt/deeplearning/metadata/env_version\"\n",
    ")\n",
    "\n",
    "# Vertex AI Notebook requires dependencies to be installed with '--user'\n",
    "USER_FLAG = \"\"\n",
    "if IS_WORKBENCH_NOTEBOOK:\n",
    "    USER_FLAG = \"--user\"\n",
    "\n",
    "! pip3 install --upgrade {USER_FLAG} google-cloud-aiplatform \\\n",
    "                                    google-cloud-storage \\\n",
    "                                    'kfp<2' \\\n",
    "                                    'google-cloud-pipeline-components<2' -q"
   ]
  },
  {
   "cell_type": "markdown",
   "id": "e1192552",
   "metadata": {},
   "source": [
    "### Restart the kernel"
   ]
  },
  {
   "cell_type": "code",
   "execution_count": null,
   "id": "e110bb87",
   "metadata": {},
   "outputs": [],
   "source": [
    "import os\n",
    "\n",
    "if not os.getenv(\"IS_TESTING\"):\n",
    "    # Automatically restart kernel after installs\n",
    "    import IPython\n",
    "\n",
    "    app = IPython.Application.instance()\n",
    "    app.kernel.do_shutdown(True)"
   ]
  },
  {
   "cell_type": "code",
   "execution_count": 2,
   "id": "d2ee0ea2",
   "metadata": {},
   "outputs": [],
   "source": [
    "PROJECT_ID = \"tempus-biogenome-labs\""
   ]
  },
  {
   "cell_type": "code",
   "execution_count": 3,
   "id": "ad30a42e",
   "metadata": {},
   "outputs": [],
   "source": [
    "if PROJECT_ID == \"\" or PROJECT_ID is None or PROJECT_ID == \"[your-project-id]\":\n",
    "    # Get your GCP project id from gcloud\n",
    "    shell_output = ! gcloud config list --format 'value(core.project)' 2>/dev/null\n",
    "    PROJECT_ID = shell_output[0]\n",
    "    print(\"Project ID:\", PROJECT_ID)"
   ]
  },
  {
   "cell_type": "code",
   "execution_count": 4,
   "id": "6e38076f",
   "metadata": {},
   "outputs": [
    {
     "name": "stdout",
     "output_type": "stream",
     "text": [
      "Updated property [core/project].\r\n"
     ]
    }
   ],
   "source": [
    "! gcloud config set project $PROJECT_ID"
   ]
  },
  {
   "cell_type": "code",
   "execution_count": 5,
   "id": "a0ab40fd",
   "metadata": {},
   "outputs": [],
   "source": [
    "BUCKET_NAME = \"lab-datasets\"\n",
    "BUCKET_URI = f\"gs://lab-datasets\""
   ]
  },
  {
   "cell_type": "code",
   "execution_count": 6,
   "id": "9dd91a71",
   "metadata": {},
   "outputs": [
    {
     "name": "stdout",
     "output_type": "stream",
     "text": [
      "     17236  2023-04-27T17:20:00Z  gs://lab-datasets/igsr-stu.tsv#1682616000567657  metageneration=1\r\n",
      "                                 gs://lab-datasets/.ipynb_checkpoints/\r\n",
      "TOTAL: 1 objects, 17236 bytes (16.83 KiB)\r\n"
     ]
    }
   ],
   "source": [
    "# Examine contents of bucket\n",
    "! gsutil ls -al $BUCKET_URI"
   ]
  },
  {
   "cell_type": "code",
   "execution_count": 7,
   "id": "8da0f988",
   "metadata": {},
   "outputs": [],
   "source": [
    "SERVICE_ACCOUNT = \"pipeline@tempus-biogenome-labs.iam.gserviceaccount.com\""
   ]
  },
  {
   "cell_type": "markdown",
   "id": "11171fb9",
   "metadata": {},
   "source": [
    "### TODO: \n",
    "1. Build pipeline to write to BigQuery using DSL (see reusable BigQuery components)\n",
    "2. Compile pipeline \n",
    "3. Deploy pipeline\n",
    "\n",
    "Pipeline build guide: https://cloud.google.com/vertex-ai/docs/pipelines/build-pipeline\n",
    "Reusable BigQuery components: https://github.com/kubeflow/pipelines/tree/master/components/google-cloud/google_cloud_pipeline_components/v1/bigquery"
   ]
  },
  {
   "cell_type": "markdown",
   "id": "31d24a6e",
   "metadata": {},
   "source": [
    "https://github.com/GoogleCloudPlatform/vertex-ai-samples/blob/main/notebooks/official/pipelines/automl_tabular_classification_beans.ipynb"
   ]
  }
 ],
 "metadata": {
  "kernelspec": {
   "display_name": "Python 3 (ipykernel)",
   "language": "python",
   "name": "python3"
  },
  "language_info": {
   "codemirror_mode": {
    "name": "ipython",
    "version": 3
   },
   "file_extension": ".py",
   "mimetype": "text/x-python",
   "name": "python",
   "nbconvert_exporter": "python",
   "pygments_lexer": "ipython3",
   "version": "3.7.16"
  }
 },
 "nbformat": 4,
 "nbformat_minor": 5
}
